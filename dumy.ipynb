{
 "cells": [
  {
   "cell_type": "code",
   "execution_count": 15,
   "metadata": {},
   "outputs": [],
   "source": [
    "# import cmath\n",
    "# a = int(input(\"Enter the Value of a\"))\n",
    "# b = int(input(\"Enter the Value of b\"))\n",
    "# c = int(input(\"Enter the Value of c\"))\n",
    "# print(a,b,c)\n",
    "# # forumula = -b +- (sqrt(b**2)-4*a*c))/(2*a)\n",
    "# d = (b**2)- (4*a*c) # d != 0\n",
    "# sol1 = (-b + cmath.sqrt(d))/(2 * a)\n",
    "# sol2 = (-b - cmath.sqrt(d))/(2 * a)\n",
    "# Result = \"Here is your result of positve {0} and the Negative {1}\".format(sol1,sol2)\n",
    "# print(Result)"
   ]
  },
  {
   "cell_type": "code",
   "execution_count": 1,
   "metadata": {},
   "outputs": [
    {
     "data": {
      "text/plain": [
       "'Positive Number'"
      ]
     },
     "execution_count": 1,
     "metadata": {},
     "output_type": "execute_result"
    }
   ],
   "source": [
    "num = int(input(\"Enter the Value \"))\n",
    "def foo():\n",
    "    if num > 0 :\n",
    "        return \"Positive Number\"\n",
    "    elif num == 0:\n",
    "        return \"Zero\"\n",
    "    else:\n",
    "        return \"Negative Number\"\n",
    "foo()"
   ]
  }
 ],
 "metadata": {
  "kernelspec": {
   "display_name": "Python 3",
   "language": "python",
   "name": "python3"
  },
  "language_info": {
   "codemirror_mode": {
    "name": "ipython",
    "version": 3
   },
   "file_extension": ".py",
   "mimetype": "text/x-python",
   "name": "python",
   "nbconvert_exporter": "python",
   "pygments_lexer": "ipython3",
   "version": "3.11.1"
  },
  "orig_nbformat": 4,
  "vscode": {
   "interpreter": {
    "hash": "75eef46696976f9d99545f8398d5cc026a55ac773bd21dca42ce1aa59af96408"
   }
  }
 },
 "nbformat": 4,
 "nbformat_minor": 2
}
