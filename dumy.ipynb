{
 "cells": [
  {
   "cell_type": "code",
   "execution_count": 15,
   "metadata": {},
   "outputs": [],
   "source": [
    "# import cmath\n",
    "# a = int(input(\"Enter the Value of a\"))\n",
    "# b = int(input(\"Enter the Value of b\"))\n",
    "# c = int(input(\"Enter the Value of c\"))\n",
    "# print(a,b,c)\n",
    "# # forumula = -b +- (sqrt(b**2)-4*a*c))/(2*a)\n",
    "# d = (b**2)- (4*a*c) # d != 0\n",
    "# sol1 = (-b + cmath.sqrt(d))/(2 * a)\n",
    "# sol2 = (-b - cmath.sqrt(d))/(2 * a)\n",
    "# Result = \"Here is your result of positve {0} and the Negative {1}\".format(sol1,sol2)\n",
    "# print(Result)"
   ]
  },
  {
   "cell_type": "code",
   "execution_count": 1,
   "metadata": {},
   "outputs": [
    {
     "data": {
      "text/plain": "'Positive Number'"
     },
     "execution_count": 1,
     "metadata": {},
     "output_type": "execute_result"
    }
   ],
   "source": [
    "num = int(input(\"Enter the Value \"))\n",
    "def foo():\n",
    "    if num > 0 :\n",
    "        return \"Positive Number\"\n",
    "    elif num == 0:\n",
    "        return \"Zero\"\n",
    "    else:\n",
    "        return \"Negative Number\"\n",
    "foo()"
   ]
  },
  {
   "cell_type": "code",
   "execution_count": 5,
   "metadata": {},
   "outputs": [
    {
     "name": "stdout",
     "output_type": "stream",
     "text": [
      "Its Prime Number\n"
     ]
    }
   ],
   "source": [
    "num =  int(input(\"Enter the Number to Check \"))\n",
    "if num <= 0:\n",
    "    print(\"Try again and Enter positive Number\")\n",
    "else:\n",
    "    for i in  range(2,num):\n",
    "        if (num % i )==0:\n",
    "            print(\"its not prime \")\n",
    "    print(\"Its Prime Number\")"
   ]
  },
  {
   "cell_type": "code",
   "execution_count": 4,
   "metadata": {},
   "outputs": [
    {
     "name": "stdout",
     "output_type": "stream",
     "text": [
      "0\n",
      "1\n",
      "1\n",
      "2\n",
      "3\n",
      "5\n",
      "8\n"
     ]
    }
   ],
   "source": [
    "num = int(input(\"Enter the Number\"))\n",
    "x = 0\n",
    "y = 1\n",
    "z = 0 \n",
    "while(z <= num):\n",
    "    print(z)\n",
    "    x = y\n",
    "    y = z\n",
    "    z = x + y\n"
   ]
  },
  {
   "cell_type": "code",
   "execution_count": 6,
   "metadata": {},
   "outputs": [
    {
     "name": "stdout",
     "output_type": "stream",
     "text": [
      "I am super excited for this course!\n",
      "I am super excited for this course!\n",
      "I am super excited for this course!\n",
      "I am super excited for this course!\n",
      "I am super excited for this course!\n"
     ]
    }
   ],
   "source": [
    "x = \"I am super excited for this course!\"\n",
    "for i in range(5):\n",
    "    print(x)"
   ]
  },
  {
   "cell_type": "code",
   "execution_count": 14,
   "metadata": {},
   "outputs": [
    {
     "name": "stdout",
     "output_type": "stream",
     "text": [
      "Hello World\n"
     ]
    }
   ],
   "source": [
    "class Book:\n",
    "    def __init__(self,title):\n",
    "        self.title = title\n",
    "    def tilte_return(self):\n",
    "        return  self.title\n",
    "\n",
    "    def __unicode__(self):\n",
    "        return \n",
    "ob1 = Book(\"Hello World\")\n",
    "\n",
    "print(ob1.tilte_return())"
   ]
  },
  {
   "cell_type": "code",
   "execution_count": 3,
   "metadata": {},
   "outputs": [
    {
     "name": "stdout",
     "output_type": "stream",
     "text": [
      "2500\n",
      "1250.0\n"
     ]
    }
   ],
   "source": [
    "class Shop:\n",
    "    def __init__(self,title,price,pages):\n",
    "        self.title = title\n",
    "        self.price = price\n",
    "        self.pages = pages\n",
    "    def price_return(self):\n",
    "        if hasattr(self,\"_coupon\"):\n",
    "            return self.price - (self.price * self._coupon)\n",
    "        else:\n",
    "            return self.price\n",
    "    def coupon(self,amount):\n",
    "        self._coupon = amount\n",
    "\n",
    "ob1 = Shop(\"Harry poter\",2500,1250)\n",
    "# print(ob1.title,ob1.pages,ob1.price)\n",
    "print(ob1.price_return())\n",
    "ob1.coupon(0.50)\n",
    "print(ob1.price_return())"
   ]
  },
  {
   "cell_type": "code",
   "execution_count": 12,
   "metadata": {},
   "outputs": [
    {
     "name": "stdout",
     "output_type": "stream",
     "text": [
      "None\n"
     ]
    }
   ],
   "source": [
    "opt = int(input(\"Enter the No: \"))\n",
    "def fo(a,*b,**c):\n",
    "  if (opt == 1):\n",
    "    return a\n",
    "  elif (opt == 2):\n",
    "    for i in b:\n",
    "      print(i)\n",
    "  elif(opt == 3):\n",
    "    for i,j in c:\n",
    "      print(i,j)\n",
    "  else:\n",
    "    return \"Choose only Three Inputs 1,2,3\"\n",
    "ar1 = 20\n",
    "ar2 = [1,2,3,4]\n",
    "ar3 = [12,13,14,15]\n",
    "ob = fo(ar1,ar2,ar3)\n",
    "print(ob)"
   ]
  }
 ],
 "metadata": {
  "kernelspec": {
   "display_name": "Python 3",
   "language": "python",
   "name": "python3"
  },
  "language_info": {
   "codemirror_mode": {
    "name": "ipython",
    "version": 3
   },
   "file_extension": ".py",
   "mimetype": "text/x-python",
   "name": "python",
   "nbconvert_exporter": "python",
   "pygments_lexer": "ipython3",
   "version": "3.11.1"
  },
  "orig_nbformat": 4,
  "vscode": {
   "interpreter": {
    "hash": "75eef46696976f9d99545f8398d5cc026a55ac773bd21dca42ce1aa59af96408"
   }
  }
 },
 "nbformat": 4,
 "nbformat_minor": 2
}
