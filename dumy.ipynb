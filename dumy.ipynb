{
 "cells": [
  {
   "cell_type": "code",
   "execution_count": 15,
   "metadata": {},
   "outputs": [],
   "source": [
    "# import cmath\n",
    "# a = int(input(\"Enter the Value of a\"))\n",
    "# b = int(input(\"Enter the Value of b\"))\n",
    "# c = int(input(\"Enter the Value of c\"))\n",
    "# print(a,b,c)\n",
    "# # forumula = -b +- (sqrt(b**2)-4*a*c))/(2*a)\n",
    "# d = (b**2)- (4*a*c) # d != 0\n",
    "# sol1 = (-b + cmath.sqrt(d))/(2 * a)\n",
    "# sol2 = (-b - cmath.sqrt(d))/(2 * a)\n",
    "# Result = \"Here is your result of positve {0} and the Negative {1}\".format(sol1,sol2)\n",
    "# print(Result)"
   ]
  },
  {
   "cell_type": "code",
   "execution_count": 1,
   "metadata": {},
   "outputs": [
    {
     "ename": "ValueError",
     "evalue": "invalid literal for int() with base 10: ''",
     "output_type": "error",
     "traceback": [
      "\u001b[1;31m---------------------------------------------------------------------------\u001b[0m",
      "\u001b[1;31mValueError\u001b[0m                                Traceback (most recent call last)",
      "Cell \u001b[1;32mIn[1], line 1\u001b[0m\n\u001b[1;32m----> 1\u001b[0m num \u001b[39m=\u001b[39m \u001b[39mint\u001b[39;49m(\u001b[39minput\u001b[39;49m(\u001b[39m\"\u001b[39;49m\u001b[39mEnter the Value \u001b[39;49m\u001b[39m\"\u001b[39;49m))\n\u001b[0;32m      2\u001b[0m \u001b[39mdef\u001b[39;00m \u001b[39mfoo\u001b[39m():\n\u001b[0;32m      3\u001b[0m     \u001b[39mif\u001b[39;00m num \u001b[39m>\u001b[39m \u001b[39m0\u001b[39m :\n",
      "\u001b[1;31mValueError\u001b[0m: invalid literal for int() with base 10: ''"
     ]
    }
   ],
   "source": [
    "num = int(input(\"Enter the Value \"))\n",
    "def foo():\n",
    "    if num > 0 :\n",
    "        return \"Positive Number\"\n",
    "    elif num == 0:\n",
    "        return \"Zero\"\n",
    "    else:\n",
    "        return \"Negative Number\"\n",
    "foo()"
   ]
  },
  {
   "cell_type": "code",
   "execution_count": 5,
   "metadata": {},
   "outputs": [
    {
     "name": "stdout",
     "output_type": "stream",
     "text": [
      "Its Prime Number\n"
     ]
    }
   ],
   "source": [
    "num =  int(input(\"Enter the Number to Check \"))\n",
    "if num <= 0:\n",
    "    print(\"Try again and Enter positive Number\")\n",
    "else:\n",
    "    for i in  range(2,num):\n",
    "        if (num % i )==0:\n",
    "            print(\"its not prime \")\n",
    "    print(\"Its Prime Number\")"
   ]
  },
  {
   "cell_type": "code",
   "execution_count": 4,
   "metadata": {},
   "outputs": [
    {
     "name": "stdout",
     "output_type": "stream",
     "text": [
      "0\n",
      "1\n",
      "1\n",
      "2\n",
      "3\n",
      "5\n",
      "8\n"
     ]
    }
   ],
   "source": [
    "num = int(input(\"Enter the Number\"))\n",
    "x = 0\n",
    "y = 1\n",
    "z = 0 \n",
    "while(z <= num):\n",
    "    print(z)\n",
    "    x = y\n",
    "    y = z\n",
    "    z = x + y\n"
   ]
  },
  {
   "cell_type": "code",
   "execution_count": 6,
   "metadata": {},
   "outputs": [
    {
     "name": "stdout",
     "output_type": "stream",
     "text": [
      "I am super excited for this course!\n",
      "I am super excited for this course!\n",
      "I am super excited for this course!\n",
      "I am super excited for this course!\n",
      "I am super excited for this course!\n"
     ]
    }
   ],
   "source": [
    "x = \"I am super excited for this course!\"\n",
    "for i in range(5):\n",
    "    print(x)"
   ]
  },
  {
   "cell_type": "code",
   "execution_count": 14,
   "metadata": {},
   "outputs": [
    {
     "name": "stdout",
     "output_type": "stream",
     "text": [
      "Hello World\n"
     ]
    }
   ],
   "source": [
    "class Book:\n",
    "    def __init__(self,title):\n",
    "        self.title = title\n",
    "    def tilte_return(self):\n",
    "        return  self.title\n",
    "\n",
    "    def __unicode__(self):\n",
    "        return \n",
    "ob1 = Book(\"Hello World\")\n",
    "\n",
    "print(ob1.tilte_return())"
   ]
  },
  {
   "cell_type": "code",
   "execution_count": 35,
   "metadata": {},
   "outputs": [
    {
     "name": "stdout",
     "output_type": "stream",
     "text": [
      "2500\n",
      "1250.0\n"
     ]
    }
   ],
   "source": [
    "class Shop:\n",
    "    def __init__(self,title,price,pages):\n",
    "        self.title = title\n",
    "        self.price = price\n",
    "        self.pages = pages\n",
    "    def price_return(self):\n",
    "        if hasattr(self,\"_coupon\"):\n",
    "            return self.price - (self.price * self._coupon)\n",
    "        else:\n",
    "            return self.price\n",
    "    def coupon(self,amount):\n",
    "        self._coupon = amount\n",
    "\n",
    "ob1 = Shop(\"Harry poter\",2500,1250)\n",
    "# print(ob1.title,ob1.pages,ob1.price)\n",
    "print(ob1.price_return())\n",
    "ob1.coupon(0.50)\n",
    "print(ob1.price_return())"
   ]
  },
  {
   "cell_type": "code",
   "execution_count": null,
   "metadata": {},
   "outputs": [],
   "source": [
    "class book:\n",
    "    def __init__(self,title,price,pages):"
   ]
  }
 ],
 "metadata": {
  "kernelspec": {
   "display_name": "Python 3",
   "language": "python",
   "name": "python3"
  },
  "language_info": {
   "codemirror_mode": {
    "name": "ipython",
    "version": 3
   },
   "file_extension": ".py",
   "mimetype": "text/x-python",
   "name": "python",
   "nbconvert_exporter": "python",
   "pygments_lexer": "ipython3",
   "version": "3.11.1"
  },
  "orig_nbformat": 4,
  "vscode": {
   "interpreter": {
    "hash": "75eef46696976f9d99545f8398d5cc026a55ac773bd21dca42ce1aa59af96408"
   }
  }
 },
 "nbformat": 4,
 "nbformat_minor": 2
}
